{
 "cells": [
  {
   "cell_type": "markdown",
   "metadata": {},
   "source": [
    "# `vprof`\n",
    "\n",
    "[vprof](https://github.com/nvdv/vprof) is a comprehensive visual code profiling tool which serves you a code runtime profile on a web server. It's awesome."
   ]
  },
  {
   "cell_type": "code",
   "execution_count": 1,
   "metadata": {
    "collapsed": false
   },
   "outputs": [],
   "source": [
    "from vprof import profiler"
   ]
  },
  {
   "cell_type": "markdown",
   "metadata": {},
   "source": [
    "## Example: apriori\n",
    "\n",
    "I'm using the apriori frequent itemset generation algorithm I wrote in `web-data-mining` to guinea pig this one."
   ]
  },
  {
   "cell_type": "code",
   "execution_count": 2,
   "metadata": {
    "collapsed": false
   },
   "outputs": [],
   "source": [
    "import apriori"
   ]
  },
  {
   "cell_type": "code",
   "execution_count": 3,
   "metadata": {
    "collapsed": false
   },
   "outputs": [
    {
     "name": "stderr",
     "output_type": "stream",
     "text": [
      "75000it [00:00, 190828.87it/s]\n"
     ]
    },
    {
     "data": {
      "text/plain": [
       "[[7], [28], [45]]"
      ]
     },
     "execution_count": 3,
     "metadata": {},
     "output_type": "execute_result"
    }
   ],
   "source": [
    "apriori.init_pass(\"75000-out1.csv\", 0.1)[0]"
   ]
  },
  {
   "cell_type": "code",
   "execution_count": 4,
   "metadata": {
    "collapsed": false
   },
   "outputs": [
    {
     "name": "stdout",
     "output_type": "stream",
     "text": [
      "Help on function run in module vprof.profiler:\n",
      "\n",
      "run(func, options, args=(), kwargs={}, host='localhost', port=8000)\n",
      "    Runs profilers specified by options against func.\n",
      "    Args:\n",
      "        func: Python function object.\n",
      "        options: A string with profilers configuration (i.e. 'cmh').\n",
      "        args: Arguments to pass to func.\n",
      "        kwargs: Keyword arguments to pass to func.\n",
      "        host: Host to send profilers data.\n",
      "        port: Port to send profilers.data.\n",
      "\n"
     ]
    }
   ],
   "source": [
    "help(profiler.run)"
   ]
  },
  {
   "cell_type": "code",
   "execution_count": 5,
   "metadata": {
    "collapsed": true
   },
   "outputs": [],
   "source": [
    "# def print_hello(foo=\"\"):\n",
    "#     print(\"Hello World! And also {0}\".format(foo))"
   ]
  },
  {
   "cell_type": "code",
   "execution_count": 6,
   "metadata": {
    "collapsed": false
   },
   "outputs": [],
   "source": [
    "# profiler.run(print_hello, 'ch')"
   ]
  },
  {
   "cell_type": "markdown",
   "metadata": {},
   "source": [
    "Note that `vprof` requires running the algorithm once for each type of graph generated. Note also that before launching the application here you need to start up the HTTP server by typing `vprof -r` into the command prompt."
   ]
  },
  {
   "cell_type": "code",
   "execution_count": 7,
   "metadata": {
    "collapsed": false
   },
   "outputs": [
    {
     "name": "stderr",
     "output_type": "stream",
     "text": [
      "75000it [00:00, 171223.10it/s]\n",
      "75000it [00:10, 7044.50it/s]\n"
     ]
    }
   ],
   "source": [
    "profiler.run(apriori.init_pass,\n",
    "             'ch', # This is the \"everything\" option.\n",
    "             args=(\"75000-out1.csv\", 0.1))"
   ]
  },
  {
   "cell_type": "code",
   "execution_count": 9,
   "metadata": {
    "collapsed": false,
    "scrolled": true
   },
   "outputs": [
    {
     "name": "stderr",
     "output_type": "stream",
     "text": [
      "75000it [00:00, 184718.48it/s]\n",
      "75000it [00:24, 3097.72it/s]\n",
      "75000it [00:00, 88334.16it/s]\n",
      "75000it [00:00, 171614.96it/s]\n",
      "75000it [00:00, 255958.13it/s]\n",
      "75000it [00:00, 301187.72it/s]\n"
     ]
    },
    {
     "data": {
      "text/plain": [
       "[[0],\n",
       " [1],\n",
       " [2],\n",
       " [3],\n",
       " [4],\n",
       " [5],\n",
       " [6],\n",
       " [7],\n",
       " [8],\n",
       " [9],\n",
       " [10],\n",
       " [11],\n",
       " [12],\n",
       " [13],\n",
       " [14],\n",
       " [15],\n",
       " [16],\n",
       " [17],\n",
       " [18],\n",
       " [19],\n",
       " [20],\n",
       " [21],\n",
       " [22],\n",
       " [23],\n",
       " [24],\n",
       " [25],\n",
       " [26],\n",
       " [27],\n",
       " [28],\n",
       " [29],\n",
       " [30],\n",
       " [31],\n",
       " [32],\n",
       " [33],\n",
       " [34],\n",
       " [35],\n",
       " [36],\n",
       " [37],\n",
       " [38],\n",
       " [39],\n",
       " [40],\n",
       " [41],\n",
       " [42],\n",
       " [43],\n",
       " [44],\n",
       " [45],\n",
       " [46],\n",
       " [47],\n",
       " [48],\n",
       " [49],\n",
       " [3, 35],\n",
       " [7, 15],\n",
       " [23, 40],\n",
       " [41, 43],\n",
       " [24, 40],\n",
       " [16, 45],\n",
       " [7, 49],\n",
       " [12, 31],\n",
       " [29, 47],\n",
       " [11, 45],\n",
       " [0, 2],\n",
       " [7, 11],\n",
       " [31, 36],\n",
       " [33, 42],\n",
       " [17, 47],\n",
       " [2, 46],\n",
       " [7, 45],\n",
       " [31, 48],\n",
       " [37, 45],\n",
       " [23, 41],\n",
       " [40, 41],\n",
       " [7, 37],\n",
       " [27, 28],\n",
       " [15, 49],\n",
       " [32, 45],\n",
       " [16, 32],\n",
       " [1, 19],\n",
       " [0, 46],\n",
       " [36, 48],\n",
       " [23, 43],\n",
       " [40, 43],\n",
       " [24, 41],\n",
       " [18, 35],\n",
       " [3, 18],\n",
       " [17, 29],\n",
       " [12, 36],\n",
       " [24, 43],\n",
       " [23, 24],\n",
       " [12, 48],\n",
       " [14, 44],\n",
       " [4, 9],\n",
       " [5, 22],\n",
       " [11, 37],\n",
       " [12, 31, 48],\n",
       " [7, 15, 49],\n",
       " [24, 40, 41],\n",
       " [23, 24, 40],\n",
       " [40, 41, 43],\n",
       " [17, 29, 47],\n",
       " [23, 40, 43],\n",
       " [23, 24, 41],\n",
       " [16, 32, 45],\n",
       " [31, 36, 48],\n",
       " [24, 41, 43],\n",
       " [7, 37, 45],\n",
       " [23, 24, 43],\n",
       " [11, 37, 45],\n",
       " [3, 18, 35],\n",
       " [7, 11, 45],\n",
       " [12, 31, 36],\n",
       " [0, 2, 46],\n",
       " [7, 11, 37],\n",
       " [12, 36, 48],\n",
       " [24, 40, 43],\n",
       " [23, 41, 43],\n",
       " [23, 40, 41],\n",
       " [7, 11, 37, 45],\n",
       " [23, 24, 41, 43],\n",
       " [24, 40, 41, 43],\n",
       " [12, 31, 36, 48],\n",
       " [23, 24, 40, 43],\n",
       " [23, 24, 40, 41],\n",
       " [23, 40, 41, 43],\n",
       " [23, 24, 40, 41, 43]]"
      ]
     },
     "execution_count": 9,
     "metadata": {},
     "output_type": "execute_result"
    }
   ],
   "source": [
    "apriori.apriori(\"75000-out1.csv\", 0.01)"
   ]
  },
  {
   "cell_type": "code",
   "execution_count": 8,
   "metadata": {
    "collapsed": false,
    "scrolled": true
   },
   "outputs": [
    {
     "name": "stderr",
     "output_type": "stream",
     "text": [
      "75000it [00:00, 167028.33it/s]\n",
      "75000it [00:30, 2471.52it/s]\n",
      "75000it [00:01, 71972.85it/s]\n",
      "75000it [00:00, 140441.37it/s]\n",
      "75000it [00:00, 216125.93it/s]\n",
      "75000it [00:00, 254222.63it/s]\n",
      "75000it [00:01, 38797.58it/s]\n",
      "22534it [08:32, 44.28it/s]\n"
     ]
    },
    {
     "ename": "KeyboardInterrupt",
     "evalue": "",
     "output_type": "error",
     "traceback": [
      "\u001b[1;31m---------------------------------------------------------------------------\u001b[0m",
      "\u001b[1;31mKeyboardInterrupt\u001b[0m                         Traceback (most recent call last)",
      "\u001b[1;32m<ipython-input-8-734867e2d97a>\u001b[0m in \u001b[0;36m<module>\u001b[1;34m()\u001b[0m\n\u001b[0;32m      1\u001b[0m profiler.run(apriori.apriori,\n\u001b[0;32m      2\u001b[0m              \u001b[1;34m'ch'\u001b[0m\u001b[1;33m,\u001b[0m\u001b[1;33m\u001b[0m\u001b[0m\n\u001b[1;32m----> 3\u001b[1;33m              args=(\"75000-out1.csv\", 0.01))\n\u001b[0m",
      "\u001b[1;32mC:\\Users\\Alex\\Anaconda3\\envs\\dummy_env_3\\lib\\site-packages\\vprof\\profiler.py\u001b[0m in \u001b[0;36mrun\u001b[1;34m(func, options, args, kwargs, host, port)\u001b[0m\n\u001b[0;32m     72\u001b[0m         \u001b[0mport\u001b[0m\u001b[1;33m:\u001b[0m \u001b[0mPort\u001b[0m \u001b[0mto\u001b[0m \u001b[0msend\u001b[0m \u001b[0mprofilers\u001b[0m\u001b[1;33m.\u001b[0m\u001b[0mdata\u001b[0m\u001b[1;33m.\u001b[0m\u001b[1;33m\u001b[0m\u001b[0m\n\u001b[0;32m     73\u001b[0m     \"\"\"\n\u001b[1;32m---> 74\u001b[1;33m     \u001b[0mrun_stats\u001b[0m \u001b[1;33m=\u001b[0m \u001b[0mrun_profilers\u001b[0m\u001b[1;33m(\u001b[0m\u001b[1;33m(\u001b[0m\u001b[0mfunc\u001b[0m\u001b[1;33m,\u001b[0m \u001b[0margs\u001b[0m\u001b[1;33m,\u001b[0m \u001b[0mkwargs\u001b[0m\u001b[1;33m)\u001b[0m\u001b[1;33m,\u001b[0m \u001b[0moptions\u001b[0m\u001b[1;33m)\u001b[0m\u001b[1;33m\u001b[0m\u001b[0m\n\u001b[0m\u001b[0;32m     75\u001b[0m     \u001b[0mpost_data\u001b[0m \u001b[1;33m=\u001b[0m \u001b[0mjson\u001b[0m\u001b[1;33m.\u001b[0m\u001b[0mdumps\u001b[0m\u001b[1;33m(\u001b[0m\u001b[0mrun_stats\u001b[0m\u001b[1;33m)\u001b[0m\u001b[1;33m.\u001b[0m\u001b[0mencode\u001b[0m\u001b[1;33m(\u001b[0m\u001b[1;34m'utf-8'\u001b[0m\u001b[1;33m)\u001b[0m\u001b[1;33m\u001b[0m\u001b[0m\n\u001b[0;32m     76\u001b[0m     \u001b[0murllib\u001b[0m\u001b[1;33m.\u001b[0m\u001b[0mrequest\u001b[0m\u001b[1;33m.\u001b[0m\u001b[0murlopen\u001b[0m\u001b[1;33m(\u001b[0m\u001b[1;34m'http://%s:%s'\u001b[0m \u001b[1;33m%\u001b[0m \u001b[1;33m(\u001b[0m\u001b[0mhost\u001b[0m\u001b[1;33m,\u001b[0m \u001b[0mport\u001b[0m\u001b[1;33m)\u001b[0m\u001b[1;33m,\u001b[0m \u001b[0mpost_data\u001b[0m\u001b[1;33m)\u001b[0m\u001b[1;33m\u001b[0m\u001b[0m\n",
      "\u001b[1;32mC:\\Users\\Alex\\Anaconda3\\envs\\dummy_env_3\\lib\\site-packages\\vprof\\profiler.py\u001b[0m in \u001b[0;36mrun_profilers\u001b[1;34m(run_object, prof_config, verbose)\u001b[0m\n\u001b[0;32m     58\u001b[0m         \u001b[1;32mif\u001b[0m \u001b[0mverbose\u001b[0m\u001b[1;33m:\u001b[0m\u001b[1;33m\u001b[0m\u001b[0m\n\u001b[0;32m     59\u001b[0m             \u001b[0mprint\u001b[0m\u001b[1;33m(\u001b[0m\u001b[1;34m'Running %s...'\u001b[0m \u001b[1;33m%\u001b[0m \u001b[0mcurr_profiler\u001b[0m\u001b[1;33m.\u001b[0m\u001b[0m__class__\u001b[0m\u001b[1;33m.\u001b[0m\u001b[0m__name__\u001b[0m\u001b[1;33m)\u001b[0m\u001b[1;33m\u001b[0m\u001b[0m\n\u001b[1;32m---> 60\u001b[1;33m         \u001b[0mrun_stats\u001b[0m\u001b[1;33m[\u001b[0m\u001b[0moption\u001b[0m\u001b[1;33m]\u001b[0m \u001b[1;33m=\u001b[0m \u001b[0mcurr_profiler\u001b[0m\u001b[1;33m.\u001b[0m\u001b[0mrun\u001b[0m\u001b[1;33m(\u001b[0m\u001b[1;33m)\u001b[0m\u001b[1;33m\u001b[0m\u001b[0m\n\u001b[0m\u001b[0;32m     61\u001b[0m     \u001b[1;32mreturn\u001b[0m \u001b[0mrun_stats\u001b[0m\u001b[1;33m\u001b[0m\u001b[0m\n\u001b[0;32m     62\u001b[0m \u001b[1;33m\u001b[0m\u001b[0m\n",
      "\u001b[1;32mC:\\Users\\Alex\\Anaconda3\\envs\\dummy_env_3\\lib\\site-packages\\vprof\\code_heatmap.py\u001b[0m in \u001b[0;36mrun\u001b[1;34m(self)\u001b[0m\n\u001b[0;32m    179\u001b[0m         \u001b[1;34m\"\"\"Calculates code heatmap for specified Python program.\"\"\"\u001b[0m\u001b[1;33m\u001b[0m\u001b[0m\n\u001b[0;32m    180\u001b[0m         \u001b[0mrun_dispatcher\u001b[0m \u001b[1;33m=\u001b[0m \u001b[0mself\u001b[0m\u001b[1;33m.\u001b[0m\u001b[0mget_run_dispatcher\u001b[0m\u001b[1;33m(\u001b[0m\u001b[1;33m)\u001b[0m\u001b[1;33m\u001b[0m\u001b[0m\n\u001b[1;32m--> 181\u001b[1;33m         \u001b[1;32mreturn\u001b[0m \u001b[0mrun_dispatcher\u001b[0m\u001b[1;33m(\u001b[0m\u001b[1;33m)\u001b[0m\u001b[1;33m\u001b[0m\u001b[0m\n\u001b[0m",
      "\u001b[1;32mC:\\Users\\Alex\\Anaconda3\\envs\\dummy_env_3\\lib\\site-packages\\vprof\\code_heatmap.py\u001b[0m in \u001b[0;36mrun_as_function\u001b[1;34m(self)\u001b[0m\n\u001b[0;32m    159\u001b[0m         \u001b[1;32mwith\u001b[0m \u001b[0mCodeHeatmapCalculator\u001b[0m\u001b[1;33m(\u001b[0m\u001b[1;33m)\u001b[0m \u001b[1;32mas\u001b[0m \u001b[0mprof\u001b[0m\u001b[1;33m:\u001b[0m\u001b[1;33m\u001b[0m\u001b[0m\n\u001b[0;32m    160\u001b[0m             \u001b[0mprof\u001b[0m\u001b[1;33m.\u001b[0m\u001b[0madd_code\u001b[0m\u001b[1;33m(\u001b[0m\u001b[0mself\u001b[0m\u001b[1;33m.\u001b[0m\u001b[0m_run_object\u001b[0m\u001b[1;33m.\u001b[0m\u001b[0m__code__\u001b[0m\u001b[1;33m)\u001b[0m\u001b[1;33m\u001b[0m\u001b[0m\n\u001b[1;32m--> 161\u001b[1;33m             \u001b[0mself\u001b[0m\u001b[1;33m.\u001b[0m\u001b[0m_run_object\u001b[0m\u001b[1;33m(\u001b[0m\u001b[1;33m*\u001b[0m\u001b[0mself\u001b[0m\u001b[1;33m.\u001b[0m\u001b[0m_run_args\u001b[0m\u001b[1;33m,\u001b[0m \u001b[1;33m**\u001b[0m\u001b[0mself\u001b[0m\u001b[1;33m.\u001b[0m\u001b[0m_run_kwargs\u001b[0m\u001b[1;33m)\u001b[0m\u001b[1;33m\u001b[0m\u001b[0m\n\u001b[0m\u001b[0;32m    162\u001b[0m         \u001b[0mcode_lines\u001b[0m\u001b[1;33m,\u001b[0m \u001b[0mstart_line\u001b[0m \u001b[1;33m=\u001b[0m \u001b[0minspect\u001b[0m\u001b[1;33m.\u001b[0m\u001b[0mgetsourcelines\u001b[0m\u001b[1;33m(\u001b[0m\u001b[0mself\u001b[0m\u001b[1;33m.\u001b[0m\u001b[0m_run_object\u001b[0m\u001b[1;33m)\u001b[0m\u001b[1;33m\u001b[0m\u001b[0m\n\u001b[0;32m    163\u001b[0m         \u001b[0mfilename\u001b[0m \u001b[1;33m=\u001b[0m \u001b[0mos\u001b[0m\u001b[1;33m.\u001b[0m\u001b[0mpath\u001b[0m\u001b[1;33m.\u001b[0m\u001b[0mabspath\u001b[0m\u001b[1;33m(\u001b[0m\u001b[0minspect\u001b[0m\u001b[1;33m.\u001b[0m\u001b[0mgetsourcefile\u001b[0m\u001b[1;33m(\u001b[0m\u001b[0mself\u001b[0m\u001b[1;33m.\u001b[0m\u001b[0m_run_object\u001b[0m\u001b[1;33m)\u001b[0m\u001b[1;33m)\u001b[0m\u001b[1;33m\u001b[0m\u001b[0m\n",
      "\u001b[1;32mC:\\Users\\Alex\\Desktop\\non-viz-module-tests\\apriori.py\u001b[0m in \u001b[0;36mapriori\u001b[1;34m(file, minsup)\u001b[0m\n\u001b[0;32m     42\u001b[0m                     \u001b[1;31m# print(set(c_k))\u001b[0m\u001b[1;33m\u001b[0m\u001b[1;33m\u001b[0m\u001b[0m\n\u001b[0;32m     43\u001b[0m                     \u001b[1;31m# print({int(n) for n in line.replace(\"\\n\", \"\").split(\",\")[1:]})\u001b[0m\u001b[1;33m\u001b[0m\u001b[1;33m\u001b[0m\u001b[0m\n\u001b[1;32m---> 44\u001b[1;33m                     \u001b[1;32mif\u001b[0m \u001b[0mset\u001b[0m\u001b[1;33m(\u001b[0m\u001b[0mc_k\u001b[0m\u001b[1;33m)\u001b[0m\u001b[1;33m.\u001b[0m\u001b[0missubset\u001b[0m\u001b[1;33m(\u001b[0m\u001b[0mcheck_set\u001b[0m\u001b[1;33m)\u001b[0m\u001b[1;33m:\u001b[0m\u001b[1;33m\u001b[0m\u001b[0m\n\u001b[0m\u001b[0;32m     45\u001b[0m                         \u001b[1;31m# ☝: c_k is a list, thereby unhashable, so it cannot be used as a Counter dict store\u001b[0m\u001b[1;33m\u001b[0m\u001b[1;33m\u001b[0m\u001b[0m\n\u001b[0;32m     46\u001b[0m                         \u001b[1;31m# directly. Instead we cast to an immutable tuple type.\u001b[0m\u001b[1;33m\u001b[0m\u001b[1;33m\u001b[0m\u001b[0m\n",
      "\u001b[1;32mC:\\Users\\Alex\\Desktop\\non-viz-module-tests\\apriori.py\u001b[0m in \u001b[0;36mapriori\u001b[1;34m(file, minsup)\u001b[0m\n\u001b[0;32m     42\u001b[0m                     \u001b[1;31m# print(set(c_k))\u001b[0m\u001b[1;33m\u001b[0m\u001b[1;33m\u001b[0m\u001b[0m\n\u001b[0;32m     43\u001b[0m                     \u001b[1;31m# print({int(n) for n in line.replace(\"\\n\", \"\").split(\",\")[1:]})\u001b[0m\u001b[1;33m\u001b[0m\u001b[1;33m\u001b[0m\u001b[0m\n\u001b[1;32m---> 44\u001b[1;33m                     \u001b[1;32mif\u001b[0m \u001b[0mset\u001b[0m\u001b[1;33m(\u001b[0m\u001b[0mc_k\u001b[0m\u001b[1;33m)\u001b[0m\u001b[1;33m.\u001b[0m\u001b[0missubset\u001b[0m\u001b[1;33m(\u001b[0m\u001b[0mcheck_set\u001b[0m\u001b[1;33m)\u001b[0m\u001b[1;33m:\u001b[0m\u001b[1;33m\u001b[0m\u001b[0m\n\u001b[0m\u001b[0;32m     45\u001b[0m                         \u001b[1;31m# ☝: c_k is a list, thereby unhashable, so it cannot be used as a Counter dict store\u001b[0m\u001b[1;33m\u001b[0m\u001b[1;33m\u001b[0m\u001b[0m\n\u001b[0;32m     46\u001b[0m                         \u001b[1;31m# directly. Instead we cast to an immutable tuple type.\u001b[0m\u001b[1;33m\u001b[0m\u001b[1;33m\u001b[0m\u001b[0m\n",
      "\u001b[1;32mC:\\Users\\Alex\\Anaconda3\\envs\\dummy_env_3\\lib\\site-packages\\vprof\\code_heatmap.py\u001b[0m in \u001b[0;36m_calc_heatmap\u001b[1;34m(self, frame, event, arg)\u001b[0m\n\u001b[0;32m     39\u001b[0m     \u001b[1;32mdef\u001b[0m \u001b[0m_calc_heatmap\u001b[0m\u001b[1;33m(\u001b[0m\u001b[0mself\u001b[0m\u001b[1;33m,\u001b[0m \u001b[0mframe\u001b[0m\u001b[1;33m,\u001b[0m \u001b[0mevent\u001b[0m\u001b[1;33m,\u001b[0m \u001b[0marg\u001b[0m\u001b[1;33m)\u001b[0m\u001b[1;33m:\u001b[0m  \u001b[1;31m#pylint: disable=unused-argument\u001b[0m\u001b[1;33m\u001b[0m\u001b[0m\n\u001b[0;32m     40\u001b[0m         \u001b[1;34m\"\"\"Calculates code heatmap.\"\"\"\u001b[0m\u001b[1;33m\u001b[0m\u001b[0m\n\u001b[1;32m---> 41\u001b[1;33m         \u001b[1;32mif\u001b[0m \u001b[0mevent\u001b[0m \u001b[1;33m==\u001b[0m \u001b[1;34m'line'\u001b[0m \u001b[1;32mand\u001b[0m \u001b[0mframe\u001b[0m\u001b[1;33m.\u001b[0m\u001b[0mf_code\u001b[0m \u001b[1;32min\u001b[0m \u001b[0mself\u001b[0m\u001b[1;33m.\u001b[0m\u001b[0m_all_code\u001b[0m\u001b[1;33m:\u001b[0m\u001b[1;33m\u001b[0m\u001b[0m\n\u001b[0m\u001b[0;32m     42\u001b[0m             \u001b[0mabs_filename\u001b[0m \u001b[1;33m=\u001b[0m \u001b[0mos\u001b[0m\u001b[1;33m.\u001b[0m\u001b[0mpath\u001b[0m\u001b[1;33m.\u001b[0m\u001b[0mabspath\u001b[0m\u001b[1;33m(\u001b[0m\u001b[0mframe\u001b[0m\u001b[1;33m.\u001b[0m\u001b[0mf_code\u001b[0m\u001b[1;33m.\u001b[0m\u001b[0mco_filename\u001b[0m\u001b[1;33m)\u001b[0m\u001b[1;33m\u001b[0m\u001b[0m\n\u001b[0;32m     43\u001b[0m             \u001b[0mself\u001b[0m\u001b[1;33m.\u001b[0m\u001b[0mheatmap\u001b[0m\u001b[1;33m[\u001b[0m\u001b[0mabs_filename\u001b[0m\u001b[1;33m]\u001b[0m\u001b[1;33m[\u001b[0m\u001b[0mframe\u001b[0m\u001b[1;33m.\u001b[0m\u001b[0mf_lineno\u001b[0m\u001b[1;33m]\u001b[0m \u001b[1;33m+=\u001b[0m \u001b[1;36m1\u001b[0m\u001b[1;33m\u001b[0m\u001b[0m\n",
      "\u001b[1;31mKeyboardInterrupt\u001b[0m: "
     ]
    }
   ],
   "source": [
    "profiler.run(apriori.apriori,\n",
    "             'ch',\n",
    "             args=(\"75000-out1.csv\", 0.01))"
   ]
  },
  {
   "cell_type": "markdown",
   "metadata": {
    "collapsed": true
   },
   "source": [
    "The `m` setting (measuring memory) fills up RAM, but this will be fixed.\n",
    "\n",
    "The computational overhead introduced is extordinary. This can be countered by running the algorithm in partial mode (by dramatically cutting down on the size of the input etc.)."
   ]
  }
 ],
 "metadata": {
  "kernelspec": {
   "display_name": "Python 3",
   "language": "python",
   "name": "python3"
  },
  "language_info": {
   "codemirror_mode": {
    "name": "ipython",
    "version": 3
   },
   "file_extension": ".py",
   "mimetype": "text/x-python",
   "name": "python",
   "nbconvert_exporter": "python",
   "pygments_lexer": "ipython3",
   "version": "3.5.1"
  }
 },
 "nbformat": 4,
 "nbformat_minor": 0
}
