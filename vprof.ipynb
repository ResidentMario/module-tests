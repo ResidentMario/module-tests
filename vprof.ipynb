{
 "cells": [
  {
   "cell_type": "markdown",
   "metadata": {},
   "source": [
    "# `vprof`\n",
    "\n",
    "[vprof](https://github.com/nvdv/vprof) is a visual code profiling tool."
   ]
  },
  {
   "cell_type": "code",
   "execution_count": 2,
   "metadata": {
    "collapsed": true
   },
   "outputs": [],
   "source": [
    "from vprof import profiler"
   ]
  },
  {
   "cell_type": "markdown",
   "metadata": {},
   "source": [
    "## Example: apriori\n",
    "\n",
    "I'm using the apriori frequent itemset generation algorithm I wrote in `web-data-mining` to guinea pig this one."
   ]
  },
  {
   "cell_type": "code",
   "execution_count": 4,
   "metadata": {
    "collapsed": false
   },
   "outputs": [],
   "source": [
    "import apriori"
   ]
  },
  {
   "cell_type": "code",
   "execution_count": 10,
   "metadata": {
    "collapsed": false
   },
   "outputs": [
    {
     "name": "stderr",
     "output_type": "stream",
     "text": [
      "75000it [00:00, 93354.99it/s]\n"
     ]
    },
    {
     "data": {
      "text/plain": [
       "[[7], [28], [45]]"
      ]
     },
     "execution_count": 10,
     "metadata": {},
     "output_type": "execute_result"
    }
   ],
   "source": [
    "apriori.init_pass(\"75000-out1.csv\", 0.1)[0]"
   ]
  },
  {
   "cell_type": "code",
   "execution_count": 6,
   "metadata": {
    "collapsed": false
   },
   "outputs": [
    {
     "name": "stdout",
     "output_type": "stream",
     "text": [
      "Help on function run in module vprof.profiler:\n",
      "\n",
      "run(func, options, args=(), kwargs={}, host='localhost', port=8000)\n",
      "    Runs profilers specified by options against func.\n",
      "    Args:\n",
      "        func: Python function object.\n",
      "        options: A string with profilers configuration (i.e. 'cmh').\n",
      "        args: Arguments to pass to func.\n",
      "        kwargs: Keyword arguments to pass to func.\n",
      "        host: Host to send profilers data.\n",
      "        port: Port to send profilers.data.\n",
      "\n"
     ]
    }
   ],
   "source": [
    "help(profiler.run)"
   ]
  },
  {
   "cell_type": "code",
   "execution_count": 18,
   "metadata": {
    "collapsed": true
   },
   "outputs": [],
   "source": [
    "def print_hello(foo=\"\"):\n",
    "    print(\"Hello World! And also {0}\".format(foo))"
   ]
  },
  {
   "cell_type": "code",
   "execution_count": 23,
   "metadata": {
    "collapsed": false
   },
   "outputs": [
    {
     "name": "stdout",
     "output_type": "stream",
     "text": [
      "Hello World! And also \n",
      "Hello World! And also \n",
      "Hello World! And also \n"
     ]
    }
   ],
   "source": [
    "profiler.run(print_hello,\n",
    "             'cmh')"
   ]
  },
  {
   "cell_type": "markdown",
   "metadata": {},
   "source": [
    "Note that `vprof` requires running the algorithm once for each type of graph generated. Note also that before launching the application here you need to start up the HTTP server by typing `vprof -r` into the command prompt."
   ]
  },
  {
   "cell_type": "code",
   "execution_count": 26,
   "metadata": {
    "collapsed": false
   },
   "outputs": [
    {
     "name": "stderr",
     "output_type": "stream",
     "text": [
      "75000it [00:00, 75675.47it/s]\n",
      "75000it [01:00, 1244.65it/s]\n",
      "75000it [00:18, 4003.01it/s]\n"
     ]
    }
   ],
   "source": [
    "profiler.run(apriori.init_pass,\n",
    "             'cmh', # This is the \"everything\" option.\n",
    "             args=(\"75000-out1.csv\", 0.1))"
   ]
  },
  {
   "cell_type": "code",
   "execution_count": null,
   "metadata": {
    "collapsed": true
   },
   "outputs": [],
   "source": []
  }
 ],
 "metadata": {
  "kernelspec": {
   "display_name": "Python 3",
   "language": "python",
   "name": "python3"
  },
  "language_info": {
   "codemirror_mode": {
    "name": "ipython",
    "version": 3
   },
   "file_extension": ".py",
   "mimetype": "text/x-python",
   "name": "python",
   "nbconvert_exporter": "python",
   "pygments_lexer": "ipython3",
   "version": "3.5.1"
  }
 },
 "nbformat": 4,
 "nbformat_minor": 0
}
