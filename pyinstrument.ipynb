{
 "cells": [
  {
   "cell_type": "markdown",
   "metadata": {},
   "source": [
    "# `pyinstrument`\n",
    "\n",
    "An inline code profiler."
   ]
  },
  {
   "cell_type": "code",
   "execution_count": 1,
   "metadata": {
    "collapsed": false
   },
   "outputs": [],
   "source": [
    "from pyinstrument import Profiler"
   ]
  },
  {
   "cell_type": "code",
   "execution_count": 2,
   "metadata": {
    "collapsed": true
   },
   "outputs": [],
   "source": [
    "def print_hello(foo=\"\"):\n",
    "    print(\"Hello World! And also {0}\".format(foo))"
   ]
  },
  {
   "cell_type": "code",
   "execution_count": 3,
   "metadata": {
    "collapsed": false
   },
   "outputs": [
    {
     "name": "stdout",
     "output_type": "stream",
     "text": [
      "Hello World! And also hi!\n",
      "\u001b[31m0.000\u001b[0m None  \u001b[2mNone\u001b[0m\n",
      "\n"
     ]
    }
   ],
   "source": [
    "profiler = Profiler() # or Profiler(use_signal=False), see below\n",
    "profiler.start()\n",
    "\n",
    "# code you want to profile\n",
    "print_hello('hi!')\n",
    "\n",
    "profiler.stop()\n",
    "print(profiler.output_text(unicode=True, color=True))"
   ]
  },
  {
   "cell_type": "code",
   "execution_count": 4,
   "metadata": {
    "collapsed": true
   },
   "outputs": [],
   "source": [
    "import apriori"
   ]
  },
  {
   "cell_type": "code",
   "execution_count": 5,
   "metadata": {
    "collapsed": false
   },
   "outputs": [
    {
     "name": "stderr",
     "output_type": "stream",
     "text": [
      "75000it [00:02, 36845.40it/s]\n"
     ]
    },
    {
     "data": {
      "text/plain": [
       "[[7], [28], [45]]"
      ]
     },
     "execution_count": 5,
     "metadata": {},
     "output_type": "execute_result"
    }
   ],
   "source": [
    "apriori.init_pass(\"75000-out1.csv\", 0.1)[0]"
   ]
  },
  {
   "cell_type": "code",
   "execution_count": 10,
   "metadata": {
    "collapsed": false
   },
   "outputs": [
    {
     "name": "stderr",
     "output_type": "stream",
     "text": [
      "75000it [00:02, 35095.80it/s]"
     ]
    },
    {
     "name": "stdout",
     "output_type": "stream",
     "text": [
      "\u001b[31m2.140\u001b[0m init_pass  \u001b[2mapriori.py:6\u001b[0m\n",
      "├─ \u001b[33m0.497\u001b[0m <setcomp>  \u001b[2mapriori.py:20\u001b[0m\n",
      "└─ \u001b[32m0.312\u001b[0m __iter__  \u001b[2mtqdm/_tqdm.py:557\u001b[0m\n",
      "   └─ \u001b[92m\u001b[2m0.078\u001b[0m print_status  \u001b[2mtqdm/_tqdm.py:96\u001b[0m\n",
      "      └─ \u001b[92m\u001b[2m0.069\u001b[0m flush  \u001b[2mipykernel/iostream.py:258\u001b[0m\n",
      "         ├─ \u001b[92m\u001b[2m0.045\u001b[0m add_callback  \u001b[2mtornado/ioloop.py:928\u001b[0m\n",
      "         └─ \u001b[92m\u001b[2m0.023\u001b[0m wait  \u001b[2mthreading.py:531\u001b[0m\n",
      "\n"
     ]
    },
    {
     "name": "stderr",
     "output_type": "stream",
     "text": [
      "\n"
     ]
    }
   ],
   "source": [
    "profiler = Profiler()\n",
    "profiler.start()\n",
    "apriori.init_pass(\"75000-out1.csv\", 0.1)[0]\n",
    "profiler.stop()\n",
    "print(profiler.output_text(unicode=True, color=True))"
   ]
  },
  {
   "cell_type": "code",
   "execution_count": 13,
   "metadata": {
    "collapsed": false
   },
   "outputs": [
    {
     "name": "stderr",
     "output_type": "stream",
     "text": [
      "75000it [00:00, 88608.39it/s]\n",
      "75000it [00:55, 1362.58it/s]\n",
      "75000it [00:01, 38300.19it/s]\n",
      "75000it [00:01, 60159.06it/s]\n",
      "75000it [00:00, 93801.11it/s]\n",
      "75000it [00:00, 117397.14it/s]"
     ]
    },
    {
     "name": "stdout",
     "output_type": "stream",
     "text": [
      "\u001b[31m60.565\u001b[0m apriori  \u001b[2mapriori.py:25\u001b[0m\n",
      "├─ \u001b[92m\u001b[2m1.269\u001b[0m __iter__  \u001b[2mtqdm/_tqdm.py:557\u001b[0m\n",
      "├─ \u001b[92m\u001b[2m1.244\u001b[0m <setcomp>  \u001b[2mapriori.py:40\u001b[0m\n",
      "└─ \u001b[92m\u001b[2m0.849\u001b[0m init_pass  \u001b[2mapriori.py:6\u001b[0m\n",
      "\n"
     ]
    },
    {
     "name": "stderr",
     "output_type": "stream",
     "text": [
      "\n"
     ]
    }
   ],
   "source": [
    "profiler = Profiler()\n",
    "profiler.start()\n",
    "apriori.apriori(\"75000-out1.csv\", 0.01)[0]\n",
    "profiler.stop()\n",
    "print(profiler.output_text(unicode=True, color=True))"
   ]
  },
  {
   "cell_type": "code",
   "execution_count": null,
   "metadata": {
    "collapsed": true
   },
   "outputs": [],
   "source": []
  }
 ],
 "metadata": {
  "kernelspec": {
   "display_name": "Python 3",
   "language": "python",
   "name": "python3"
  },
  "language_info": {
   "codemirror_mode": {
    "name": "ipython",
    "version": 3
   },
   "file_extension": ".py",
   "mimetype": "text/x-python",
   "name": "python",
   "nbconvert_exporter": "python",
   "pygments_lexer": "ipython3",
   "version": "3.5.1"
  }
 },
 "nbformat": 4,
 "nbformat_minor": 0
}
